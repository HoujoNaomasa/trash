{
 "cells": [
  {
   "cell_type": "code",
   "execution_count": 30,
   "metadata": {},
   "outputs": [],
   "source": [
    "N = int(input())\n",
    "work = []\n",
    "for n in range(N):\n",
    "    x = list(map(int, input().split()))\n",
    "    work.append(x)"
   ]
  },
  {
   "cell_type": "code",
   "execution_count": 31,
   "metadata": {},
   "outputs": [
    {
     "data": {
      "text/plain": [
       "[[1, 2], [2, 3], [5, 7], [8, 15]]"
      ]
     },
     "execution_count": 31,
     "metadata": {},
     "output_type": "execute_result"
    }
   ],
   "source": [
    "work"
   ]
  },
  {
   "cell_type": "code",
   "execution_count": 38,
   "metadata": {},
   "outputs": [
    {
     "data": {
      "text/plain": [
       "[[1, 2], [2, 3], [5, 7], [8, 15]]"
      ]
     },
     "execution_count": 38,
     "metadata": {},
     "output_type": "execute_result"
    }
   ],
   "source": [
    "import copy\n",
    "works = copy.deepcopy(work)\n",
    "works"
   ]
  },
  {
   "cell_type": "code",
   "execution_count": 39,
   "metadata": {},
   "outputs": [
    {
     "name": "stdout",
     "output_type": "stream",
     "text": [
      "-------------------\n",
      "target work is [2, 3]\n",
      "current renkin: [1, 2]\n",
      "beta is changed.\n",
      "-------------------\n",
      "target work is [5, 7]\n",
      "current renkin: [1, 3]\n",
      "No change.\n",
      "[5, 7] is appended.\n",
      "-------------------\n",
      "target work is [8, 15]\n",
      "current renkin: [1, 3]\n",
      "No change.\n",
      "current renkin: [5, 7]\n",
      "beta is changed.\n"
     ]
    }
   ],
   "source": [
    "renkins = []\n",
    "renkins.append(works[0])\n",
    "\n",
    "for w in works[1:]:\n",
    "    print('-------------------')\n",
    "    print(f\"target work is {w}\")\n",
    "    alpha, beta = w[0], w[1]\n",
    "    append_flag = True\n",
    "    for r in renkins:\n",
    "        print(f\"current renkin: {r}\")\n",
    "        # 1\n",
    "        if alpha <= r[0]-1:\n",
    "            if alpha == r[0]-1:\n",
    "                r[0] = alpha\n",
    "                append_flag = False\n",
    "                print(\"alpha is changed.\")\n",
    "            if beta >= r[0]-1:\n",
    "                r[0], r[1] = alpha, beta\n",
    "                append_flag = False\n",
    "                print(\"alpha, beta are changed.\")\n",
    "        # 2\n",
    "        if r[0]<=alpha and alpha<=r[1]:\n",
    "            if beta > r[1]:\n",
    "                r[1] = beta\n",
    "                append_flag = False\n",
    "                print(\"beta is changed.\")\n",
    "            else:\n",
    "                append_flag = False\n",
    "                print(\"already in renkin\")\n",
    "\n",
    "        # 3\n",
    "        if r[1]+1 <= alpha:\n",
    "            if alpha == r[1]+1:\n",
    "                r[1] = beta\n",
    "                append_flag = False\n",
    "                print(\"beta is changed.\")\n",
    "        if append_flag:\n",
    "            print(\"No change.\")\n",
    "    if append_flag:\n",
    "        renkins.append(w)\n",
    "        print(f\"{w} is appended.\")\n",
    "        \n",
    "            \n",
    "\n"
   ]
  },
  {
   "cell_type": "code",
   "execution_count": 40,
   "metadata": {},
   "outputs": [
    {
     "data": {
      "text/plain": [
       "[[1, 3], [5, 15]]"
      ]
     },
     "execution_count": 40,
     "metadata": {},
     "output_type": "execute_result"
    }
   ],
   "source": [
    "renkins"
   ]
  },
  {
   "cell_type": "code",
   "execution_count": null,
   "metadata": {},
   "outputs": [],
   "source": []
  }
 ],
 "metadata": {
  "kernelspec": {
   "display_name": "Python 3.8.10 ('naomasa')",
   "language": "python",
   "name": "python3"
  },
  "language_info": {
   "codemirror_mode": {
    "name": "ipython",
    "version": 3
   },
   "file_extension": ".py",
   "mimetype": "text/x-python",
   "name": "python",
   "nbconvert_exporter": "python",
   "pygments_lexer": "ipython3",
   "version": "3.8.10"
  },
  "orig_nbformat": 4,
  "vscode": {
   "interpreter": {
    "hash": "d7dfd4423268d1ca3235e91a1fddd781ff6c29ba32df830d5fd234f634d8644b"
   }
  }
 },
 "nbformat": 4,
 "nbformat_minor": 2
}
